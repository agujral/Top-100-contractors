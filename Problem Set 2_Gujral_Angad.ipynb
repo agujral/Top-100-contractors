{
 "cells": [
  {
   "cell_type": "code",
   "execution_count": 1,
   "metadata": {
    "collapsed": true
   },
   "outputs": [],
   "source": [
    "%matplotlib inline"
   ]
  },
  {
   "cell_type": "markdown",
   "metadata": {},
   "source": [
    "View [Top 100 Contractors of the U.S. federal government](https://en.wikipedia.org/wiki/Top_100_Contractors_of_the_U.S._federal_government).\n",
    "\n",
    "The Excel file is divided into tabs. The first tab covers all the Federal government while the remaining tabs are by department.\n",
    "\n",
    "Created SQLite3 database of the department specific actions (contracts) and dollar amounts. It has **two** tables. The first \"contractors\" have an id (as a primary key) and a global_vendor_name (as a varchar). The second includes an id (primary key), department, actions (number of actions), dollars (dollars obligated) and contractor_id as a foreign key to the contractors table.\n"
   ]
  },
  {
   "cell_type": "code",
   "execution_count": 3,
   "metadata": {
    "collapsed": false
   },
   "outputs": [],
   "source": [
    "#importing pandas and sqlite\n",
    "\n",
    "import pandas as pd\n",
    "import sqlite3\n"
   ]
  },
  {
   "cell_type": "code",
   "execution_count": null,
   "metadata": {
    "collapsed": true
   },
   "outputs": [],
   "source": [
    "# creating database\n",
    "\n",
    "c = sqlite3.connect(\"contractors.db\")"
   ]
  },
  {
   "cell_type": "markdown",
   "metadata": {},
   "source": [
    "Creating table 1, The first \"contractors\" should have an id (as a primary key) and a global_vendor_name (as a varchar)"
   ]
  },
  {
   "cell_type": "code",
   "execution_count": 4,
   "metadata": {
    "collapsed": false
   },
   "outputs": [
    {
     "data": {
      "text/plain": [
       "<sqlite3.Cursor at 0x94d0f10>"
      ]
     },
     "execution_count": 4,
     "metadata": {},
     "output_type": "execute_result"
    }
   ],
   "source": [
    "createFirstTable = \"CREATE TABLE first (id integer primary key, GlobalVendorName varchar)\"\n",
    "c.execute(createFirstTable)"
   ]
  },
  {
   "cell_type": "code",
   "execution_count": 5,
   "metadata": {
    "collapsed": false
   },
   "outputs": [
    {
     "data": {
      "text/plain": [
       "<sqlite3.Cursor at 0x94d0f80>"
      ]
     },
     "execution_count": 5,
     "metadata": {},
     "output_type": "execute_result"
    }
   ],
   "source": [
    "insertIntoFirst = \"INSERT INTO first (GlobalVendorName) SELECT distinct GlobalVendorName from contractors;\"\n",
    "c.execute(insertIntoFirst)\n"
   ]
  },
  {
   "cell_type": "markdown",
   "metadata": {},
   "source": [
    "The second should include an id (primary key), department, actions (number of actions), dollars (dollars obligated) and contractor_id as a foreign key to the contractors table."
   ]
  },
  {
   "cell_type": "code",
   "execution_count": 6,
   "metadata": {
    "collapsed": false
   },
   "outputs": [
    {
     "data": {
      "text/plain": [
       "<sqlite3.Cursor at 0x3fd3340>"
      ]
     },
     "execution_count": 6,
     "metadata": {},
     "output_type": "execute_result"
    }
   ],
   "source": [
    "createSecondTable = \"CREATE TABLE second (id integer primary key,department text, actions int, dollars real, name text, contractor_id int )\"\n",
    "\n",
    "c.execute(createSecondTable)"
   ]
  },
  {
   "cell_type": "code",
   "execution_count": 9,
   "metadata": {
    "collapsed": false
   },
   "outputs": [],
   "source": [
    "tally = '''select contractors.Department as department, contractors.NumberOfActions as actions, contractors.DollarsObligated as dollars, \n",
    "contractors.GlobalVendorName as name, first.id as contractor_id from contractors INNER JOIN first\n",
    "ON contractors.GlobalVendorName=first.GlobalVendorName ;'''\n",
    "\n",
    "filldata  = c.execute(tally).fetchall()\n",
    "\n",
    "insertIntoSecond = '''INSERT INTO second (department,actions,dollars,name,contractor_id ) values (?,?,?,?,?);'''"
   ]
  },
  {
   "cell_type": "code",
   "execution_count": 10,
   "metadata": {
    "collapsed": false
   },
   "outputs": [
    {
     "data": {
      "text/plain": [
       "<sqlite3.Cursor at 0x94e8260>"
      ]
     },
     "execution_count": 10,
     "metadata": {},
     "output_type": "execute_result"
    }
   ],
   "source": [
    "c.executemany(insertIntoSecond ,filldata)"
   ]
  },
  {
   "cell_type": "markdown",
   "metadata": {},
   "source": [
    "1. What are the total actions and dollars obligated by department?\n"
   ]
  },
  {
   "cell_type": "code",
   "execution_count": 12,
   "metadata": {
    "collapsed": false
   },
   "outputs": [
    {
     "name": "stdout",
     "output_type": "stream",
     "text": [
      "                        Department  Actions        Dollar\n",
      "0               Agriculture (1200)     5485  2.775054e+09\n",
      "1                 Air Force (5700)    41352  4.595283e+10\n",
      "2                      Army (2100)    44579  5.433987e+10\n",
      "3                  Commerce (1300)    10739  1.532774e+09\n",
      "4                       DoD (9700)  7295791  2.024188e+11\n",
      "5                       EPA (6800)    10868  1.166138e+09\n",
      "6                 Education (9100)     1673  2.509561e+09\n",
      "7                    Energy (8900)     4461  2.346931e+10\n",
      "8   Health & Human Services (7500)    12430  1.364998e+10\n",
      "9         Homeland Security (7000)    13593  8.335305e+09\n",
      "10      Housing & Urban Dev (8600)      932  1.660497e+09\n",
      "11                 Interior (1400)     8139  1.919173e+09\n",
      "12                  Justice (1500)    44910  4.569549e+09\n",
      "13                    Labor (1600)     3171  1.757983e+09\n",
      "14                     NASA (8000)    14810  1.338423e+10\n",
      "15                     Navy (1700)    81427  7.334406e+10\n",
      "16                    State (1900)    10589  5.482344e+09\n",
      "17           Transportation (6900)     7663  4.290592e+09\n",
      "18                 Treasury (2000)     7703  5.983408e+09\n",
      "19         Veterans Affairs (3600)  1222373  1.031261e+10\n"
     ]
    }
   ],
   "source": [
    "query1 = c.execute(\"SELECT department, sum(actions),sum(dollars) FROM second GROUP BY department ;\").fetchall()\n",
    "\n",
    "dpt = []\n",
    "act = []\n",
    "dollar = []\n",
    "\n",
    "for each in query1:\n",
    "    dpt.append(each[0])\n",
    "    act.append(each[1])\n",
    "    dollar.append(each[2])\n",
    "\n",
    "data_query1=pd.DataFrame(dpt, columns=['Department'])\n",
    "data_query1['Actions']= act\n",
    "data_query1['Dollar']=dollar\n",
    "\n",
    "#taken from stackoverflow\n",
    "pd.set_option('display.max_rows', len(data_query1))\n",
    "print(data_query1)\n",
    "pd.reset_option('display.max_rows')"
   ]
  },
  {
   "cell_type": "markdown",
   "metadata": {},
   "source": [
    " What is Johns Hopkins University's number of actions and dollars by department?\n"
   ]
  },
  {
   "cell_type": "code",
   "execution_count": 15,
   "metadata": {
    "collapsed": false
   },
   "outputs": [],
   "source": [
    "query2 = c.execute(\"SELECT department, SUM(actions), SUM(dollars) FROM second where name = 'JOHNS HOPKINS UNIVERSITY' group by department ;\").fetchall()\n"
   ]
  },
  {
   "cell_type": "code",
   "execution_count": 16,
   "metadata": {
    "collapsed": false
   },
   "outputs": [
    {
     "name": "stdout",
     "output_type": "stream",
     "text": [
      "                       Department  Actions        Dollar\n",
      "0                      DoD (9700)     1323  6.942884e+08\n",
      "1  Health & Human Services (7500)      203  6.435527e+07\n",
      "2                     NASA (8000)      386  1.617388e+08\n",
      "3                     Navy (1700)      706  4.810786e+08\n"
     ]
    }
   ],
   "source": [
    "dpt = []\n",
    "act = []\n",
    "dollar = []\n",
    "\n",
    "for each in query2:\n",
    "    dpt.append(each[0])\n",
    "    act.append(each[1])\n",
    "    dollar.append(each[2])\n",
    "\n",
    "data_query2=pd.DataFrame(dpt, columns=['Department'])\n",
    "data_query2['Actions']= act\n",
    "data_query2['Dollar']=dollar\n",
    "\n",
    "\n",
    "pd.set_option('display.max_rows', len(data_query2))\n",
    "print(data_query2)\n",
    "pd.reset_option('display.max_rows')"
   ]
  },
  {
   "cell_type": "markdown",
   "metadata": {},
   "source": [
    "What is the count of vendors by deparments (how many vendors received contracts from 1 department, 2 departments, etc.). Using the percent of total vendors (instead of raw counts), make a chart of these results."
   ]
  },
  {
   "cell_type": "code",
   "execution_count": 17,
   "metadata": {
    "collapsed": false
   },
   "outputs": [
    {
     "name": "stdout",
     "output_type": "stream",
     "text": [
      "    department  Vendor\n",
      "0            0       0\n",
      "1            1    1099\n",
      "2            2     111\n",
      "3            3      38\n",
      "4            4      27\n",
      "5            5      16\n",
      "6            6       9\n",
      "7            7      11\n",
      "8            8       4\n",
      "9            9       7\n",
      "10          10       1\n",
      "11          11       2\n",
      "12          12       1\n",
      "13          13       2\n",
      "14          14       0\n",
      "15          15       0\n",
      "16          16       4\n",
      "17          17       1\n"
     ]
    }
   ],
   "source": [
    "import numpy as np\n",
    "count = []\n",
    "x=[]\n",
    "\n",
    "query3 = c.execute(\"SELECT name, count (*) department FROM second GROUP BY name ;\").fetchall()\n",
    "for each in query3:\n",
    "    count.append(each[1])\n",
    "y = np.bincount(count)  \n",
    "\n",
    "for i in range(0,len(y)):\n",
    "    x.append(i)\n",
    "\n",
    "data_query3=pd.DataFrame(x, columns=['department'])\n",
    "data_query3['Vendor']= y\n",
    "\n",
    "\n",
    "pd.set_option('display.max_rows', len(data_query3))\n",
    "print(data_query3)\n",
    "pd.reset_option('display.max_rows')\n",
    "\n"
   ]
  },
  {
   "cell_type": "code",
   "execution_count": 18,
   "metadata": {
    "collapsed": false
   },
   "outputs": [
    {
     "name": "stdout",
     "output_type": "stream",
     "text": [
      "[0, 1, 2, 3, 4, 5, 6, 7, 8, 9, 10, 11, 12, 13, 14, 15, 16, 17]\n",
      "[0.0, 46.06035205364627, 4.6521374685666386, 1.5926236378876781, 1.1316010058675607, 0.67057837384744345, 0.37720033528918695, 0.46102263202011728, 0.16764459346186086, 0.2933780385582565, 0.041911148365465216, 0.083822296730930432, 0.041911148365465216, 0.083822296730930432, 0.0, 0.0, 0.16764459346186086, 0.041911148365465216]\n"
     ]
    }
   ],
   "source": [
    "%matplotlib inline\n",
    "import matplotlib.pyplot as plot\n",
    "\n",
    "percent = []\n",
    "chart=[]\n",
    "for each in y:\n",
    "    each = (each/float(2386))*100\n",
    "    percent.append(each)\n",
    "for x in range(len(percent)):\n",
    "    chart.append(x)\n",
    "print chart\n",
    "print percent"
   ]
  },
  {
   "cell_type": "code",
   "execution_count": 19,
   "metadata": {
    "collapsed": false
   },
   "outputs": [
    {
     "data": {
      "text/plain": [
       "[<matplotlib.axis.XTick at 0x9e65ac8>,\n",
       " <matplotlib.axis.XTick at 0x9e65da0>,\n",
       " <matplotlib.axis.XTick at 0x9ef4668>,\n",
       " <matplotlib.axis.XTick at 0x9ef4d30>,\n",
       " <matplotlib.axis.XTick at 0x9f053c8>,\n",
       " <matplotlib.axis.XTick at 0x9f05a20>,\n",
       " <matplotlib.axis.XTick at 0x9f100b8>,\n",
       " <matplotlib.axis.XTick at 0x9f10710>,\n",
       " <matplotlib.axis.XTick at 0x9f10d68>,\n",
       " <matplotlib.axis.XTick at 0x9f5e400>,\n",
       " <matplotlib.axis.XTick at 0x9f5ea58>,\n",
       " <matplotlib.axis.XTick at 0x9f690f0>,\n",
       " <matplotlib.axis.XTick at 0x9f69748>,\n",
       " <matplotlib.axis.XTick at 0x9f69da0>,\n",
       " <matplotlib.axis.XTick at 0x9f74438>,\n",
       " <matplotlib.axis.XTick at 0x9f74a90>,\n",
       " <matplotlib.axis.XTick at 0x9f80128>,\n",
       " <matplotlib.axis.XTick at 0x9f80780>]"
      ]
     },
     "execution_count": 19,
     "metadata": {},
     "output_type": "execute_result"
    },
    {
     "data": {
      "image/png": "[encoded data removed]",
      "text/plain": [
       "<matplotlib.figure.Figure at 0x9d70320>"
      ]
     },
     "metadata": {},
     "output_type": "display_data"
    }
   ],
   "source": [
    "figure = plot.figure(figsize=(20, 6))\n",
    "axes = figure.add_subplot(1, 1, 1)\n",
    "axes.plot(chart, percent, \"o-\", color=\"steelblue\")\n",
    "axes.set_xlim((0, 30))\n",
    "axes.set_ylim((0, 100))\n",
    "axes.set_xticks(chart)\n"
   ]
  },
  {
   "cell_type": "markdown",
   "metadata": {},
   "source": [
    "Looks like a exponential distribution"
   ]
  },
  {
   "cell_type": "code",
   "execution_count": null,
   "metadata": {
    "collapsed": true
   },
   "outputs": [],
   "source": []
  },
  {
   "cell_type": "code",
   "execution_count": null,
   "metadata": {
    "collapsed": true
   },
   "outputs": [],
   "source": []
  }
 ],
 "metadata": {
  "anaconda-cloud": {},
  "kernelspec": {
   "display_name": "Python [Root]",
   "language": "python",
   "name": "Python [Root]"
  },
  "language_info": {
   "codemirror_mode": {
    "name": "ipython",
    "version": 2
   },
   "file_extension": ".py",
   "mimetype": "text/x-python",
   "name": "python",
   "nbconvert_exporter": "python",
   "pygments_lexer": "ipython2",
   "version": "2.7.12"
  }
 },
 "nbformat": 4,
 "nbformat_minor": 0
}
